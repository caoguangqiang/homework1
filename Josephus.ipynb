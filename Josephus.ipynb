{
 "nbformat": 4,
 "nbformat_minor": 2,
 "metadata": {
  "language_info": {
   "name": "python",
   "codemirror_mode": {
    "name": "ipython",
    "version": 3
   },
   "version": "3.7.6-final"
  },
  "orig_nbformat": 2,
  "file_extension": ".py",
  "mimetype": "text/x-python",
  "name": "python",
  "npconvert_exporter": "python",
  "pygments_lexer": "ipython3",
  "version": 3,
  "kernelspec": {
   "name": "python3",
   "display_name": "Python 3"
  }
 },
 "cells": [
  {
   "cell_type": "code",
   "execution_count": 25,
   "metadata": {},
   "outputs": [
    {
     "output_type": "stream",
     "name": "stdout",
     "text": "position:4,name:lirongjie,age:21\nposition:7,name:zhaochongsen,age:24\nposition:3,name:gaoshi,age:20\nposition:1,name:yangjincheng,age:18\nposition:6,name:wangzhen,age:23\nposition:2,name:huoyinqi,age:19\nposition:5,name:wuzhong,age:22\n"
    }
   ],
   "source": [
    "# 约瑟夫环\n",
    "# 创建两个类，面向人和环\n",
    "# 指定起始位置，间隔step的人出列\n",
    "# person = ['yangjincheng','huoyinqi','gaoshi','lirongjie','wuzhong','wangzhen','zhaochongsen']\n",
    "\n",
    "class Person:\n",
    "    def __init__(self, name, position, age):\n",
    "        self.name = name \n",
    "        self.position = position \n",
    "        self.age = age \n",
    "    \n",
    "    def print_info(self):\n",
    "        print(\"position:{},name:{},age:{}\" .format(self.position, self.name, self.age))\n",
    "\n",
    "m1 = Person('yangjincheng', 1, 18)\n",
    "m2 = Person('huoyinqi', 2, 19)\n",
    "m3 = Person('gaoshi', 3, 20)\n",
    "m4 = Person('lirongjie', 4, 21)\n",
    "m5 = Person('wuzhong', 5, 22)\n",
    "m6 = Person('wangzhen', 6, 23)\n",
    "m7 = Person('zhaochongsen', 7, 24)\n",
    "member = [m1, m2, m3, m4, m5, m6, m7] \n",
    "\n",
    "\n",
    "class Ring:\n",
    "    def __init__(self, member, step, start):\n",
    "        self.member = member\n",
    "        self.step = step\n",
    "        self.start = start\n",
    "     \n",
    "\n",
    "    def josephus_remainder(self): \n",
    "        result = []\n",
    "        now = self.start - 1\n",
    "        while len(self.member):\n",
    "            now = (now + self.step - 1) % len(self.member) \n",
    "            result.append(self.member[now])\n",
    "            self.member.pop(now) \n",
    "        return result\n",
    "        # yield\n",
    "    \n",
    "\n",
    "c1 = Ring(member, 3 ,2)    \n",
    "result = c1.josephus_remainder()\n",
    "for i in range(len(result)):\n",
    "    result[i].print_info()\n",
    ""
   ]
  },
  {
   "cell_type": "code",
   "execution_count": null,
   "metadata": {},
   "outputs": [],
   "source": []
  },
  {
   "cell_type": "code",
   "execution_count": null,
   "metadata": {},
   "outputs": [],
   "source": []
  }
 ]
}