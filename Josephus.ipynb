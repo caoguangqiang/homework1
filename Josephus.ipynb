{
 "nbformat": 4,
 "nbformat_minor": 2,
 "metadata": {
  "language_info": {
   "name": "python",
   "codemirror_mode": {
    "name": "ipython",
    "version": 3
   },
   "version": "3.7.6-final"
  },
  "orig_nbformat": 2,
  "file_extension": ".py",
  "mimetype": "text/x-python",
  "name": "python",
  "npconvert_exporter": "python",
  "pygments_lexer": "ipython3",
  "version": 3,
  "kernelspec": {
   "name": "python3",
   "display_name": "Python 3"
  }
 },
 "cells": [
  {
   "cell_type": "code",
   "execution_count": 8,
   "metadata": {},
   "outputs": [],
   "source": [
    "# 约瑟夫环\n",
    "# 创建两个类，面向人和环\n",
    "# 指定起始位置，间隔step的人出列\n",
    "\n",
    "import copy\n",
    "\n",
    "class Person(object):\n",
    "    def __init__(self, id, name, age):\n",
    "        self.id = id \n",
    "        self.name = name \n",
    "        self.age = age \n",
    "\n",
    "class Ring:\n",
    "    def __init__(self, start, step):\n",
    "        self.start = start\n",
    "        self.step = step\n",
    "        self.people = []\n",
    "    \n",
    "     # 增功能\n",
    "    def append(self,obj):\n",
    "        self.people.append(obj)\n",
    "   \n",
    "    # 删功能\n",
    "    def pop(self):\n",
    "        self.people.pop(obj)\n",
    "    \n",
    "    # 查找\n",
    "    def query_list(self):\n",
    "        return self.people\n",
    "    \n",
    "    def reset(self):  \n",
    "        self.current_id = self.start -1\n",
    "        self.temp = copy.copy(self.people)\n",
    "        self.length = len(self.people)\n",
    "\n",
    "    def next(self):\n",
    "        size = len(self.temp)\n",
    "        if size == 0:\n",
    "            return None\n",
    "            \n",
    "        id_ = (self.current_id + self.step -1) % size\n",
    "        index = self.temp.pop(id_)\n",
    "        self.current_id = id_\n",
    "        \n",
    "        return index\n",
    "\n",
    "    def iter(self):\n",
    "            # self.temp = copy.copy(self.people)\n",
    "            size = len(self.temp)\n",
    "            # if size == 0:\n",
    "            #     return None\n",
    "            id_ = self.start -1\n",
    "\n",
    "            for i in range(size):\n",
    "                id_ = (id_ + self.step - 1) % len(self.temp)\n",
    "                index = self.temp.pop(id_)\n",
    "                yield index"
   ]
  },
  {
   "cell_type": "code",
   "execution_count": 9,
   "metadata": {},
   "outputs": [
    {
     "output_type": "stream",
     "name": "stdout",
     "text": "第1个出列的人：Mark；年龄：21\n第2个出列的人：Oscar；年龄：24\n第3个出列的人：Jerry；年龄：20\n第4个出列的人：John；年龄：18\n第5个出列的人：Neil；年龄：23\n第6个出列的人：Bob；年龄：19\n第7个出列的人：Jack；年龄：22\n-------------------------\n第1个出列的人：Mark；年龄：21\n第2个出列的人：Oscar；年龄：24\n第3个出列的人：Jerry；年龄：20\n第4个出列的人：John；年龄：18\n第5个出列的人：Neil；年龄：23\n第6个出列的人：Bob；年龄：19\n第7个出列的人：Jack；年龄：22\n"
    }
   ],
   "source": [
    "ring = Ring(2,3)\n",
    "\n",
    "ring.people.append(Person(1, \"John\", 18))\n",
    "ring.people.append(Person(2, \"Bob\", 19))\n",
    "ring.people.append(Person(3, \"Jerry\", 20))\n",
    "ring.people.append(Person(4, \"Mark\", 21))\n",
    "ring.people.append(Person(5, \"Jack\", 22))\n",
    "ring.people.append(Person(6, \"Neil\", 23))\n",
    "ring.people.append(Person(7, \"Oscar\", 24))\n",
    "\n",
    "\n",
    "ring.reset()\n",
    "for i in range(ring.length):\n",
    "    index = ring.next()\n",
    "    if index:\n",
    "        print(\"第{}个出列的人：{}；年龄：{}\". format(i+1, index.name, index.age))\n",
    "\n",
    "print('-'*25)\n",
    "\n",
    "ring.reset()\n",
    "generator = ring.iter()\n",
    "for i in range(ring.length):\n",
    "    index = next(generator)\n",
    "    if index:\n",
    "        print(\"第{}个出列的人：{}；年龄：{}\". format(i+1, index.name, index.age))"
   ]
  },
  {
   "cell_type": "code",
   "execution_count": null,
   "metadata": {},
   "outputs": [],
   "source": []
  }
 ]
}