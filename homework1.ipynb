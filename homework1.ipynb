{
 "nbformat": 4,
 "nbformat_minor": 2,
 "metadata": {
  "language_info": {
   "name": "python",
   "codemirror_mode": {
    "name": "ipython",
    "version": 3
   },
   "version": "3.7.6-final"
  },
  "orig_nbformat": 2,
  "file_extension": ".py",
  "mimetype": "text/x-python",
  "name": "python",
  "npconvert_exporter": "python",
  "pygments_lexer": "ipython3",
  "version": 3,
  "kernelspec": {
   "name": "python3",
   "display_name": "Python 3"
  }
 },
 "cells": [
  {
   "cell_type": "code",
   "execution_count": 13,
   "metadata": {},
   "outputs": [
    {
     "output_type": "stream",
     "name": "stdout",
     "text": "x=5,y=3\n"
    }
   ],
   "source": [
    "# 交换两个变量值\n",
    "# 定义两个数并赋值\n",
    "x = 3\n",
    "y = 5\n",
    "# 引入第三方变量\n",
    "z = 0\n",
    "z = x\n",
    "x = y\n",
    "y = z\n",
    "print(\"x=%d,y=%d\"%(x,y))"
   ]
  },
  {
   "cell_type": "code",
   "execution_count": 22,
   "metadata": {},
   "outputs": [
    {
     "output_type": "stream",
     "name": "stdout",
     "text": "6\n"
    }
   ],
   "source": [
    "# 求数字中各位数之和(3位数)\n",
    "num = int(input('输入第一个数字：'))   # 输入数字\n",
    "num1 = int(num / 100)                 # 百位\n",
    "num2 = int(num / 10 % 10)             # 十位\n",
    "num3 = int(num % 10)                  # 个位\n",
    "sum = num1 + num2+ num3    # 求和\n",
    "print(sum) # 显示计算结果\n"
   ]
  },
  {
   "cell_type": "code",
   "execution_count": 1,
   "metadata": {},
   "outputs": [
    {
     "output_type": "stream",
     "name": "stdout",
     "text": "华氏温度为：77\n77\n"
    }
   ],
   "source": [
    "#将摄氏度转换为华氏温度\n",
    "a=int(input('请输入摄氏温度：'))                # 输入温度\n",
    "c=int(a*9/5+32)                                # 转换温度\n",
    "print(\"华氏温度为：{}\".format(c))               # 输出输出结果\n",
    "print(c)                                       # 输出输出结果"
   ]
  },
  {
   "cell_type": "code",
   "execution_count": 4,
   "metadata": {},
   "outputs": [
    {
     "output_type": "stream",
     "name": "stdout",
     "text": "这个数是素数！\n"
    }
   ],
   "source": [
    "#判断是否为素数\n",
    "s=int(input(\"请输入一个正整数：\"))             # 任意输入\n",
    "if s<2:                                       \n",
    "    print(\"这个数不是素数！\")                  # 素数大于1\n",
    "else:\n",
    "    for i in range(2,s):                      # 若能将s之前的数整除\n",
    "        if s%i==0:                            # 若能将s之前的数整除\n",
    "            print(\"这个数不是素数！\")          # s不是素数\n",
    "            break\n",
    "    else:\n",
    "        print(\"这个数是素数！\")                # 否则就是素数\n"
   ]
  },
  {
   "cell_type": "code",
   "execution_count": 3,
   "metadata": {},
   "outputs": [
    {
     "output_type": "execute_result",
     "data": {
      "text/plain": "61"
     },
     "metadata": {},
     "execution_count": 3
    }
   ],
   "source": [
    "#生成随机数\n",
    "import random\n",
    "random.randint(0,99)           #生成随机整数"
   ]
  },
  {
   "cell_type": "code",
   "execution_count": 18,
   "metadata": {},
   "outputs": [
    {
     "output_type": "execute_result",
     "data": {
      "text/plain": "94"
     },
     "metadata": {},
     "execution_count": 18
    }
   ],
   "source": [
    "#生成随机数\n",
    "import random\n",
    "random.randrange(0, 101, 2)    #随机选取0到100间的偶数"
   ]
  },
  {
   "cell_type": "code",
   "execution_count": 2,
   "metadata": {},
   "outputs": [
    {
     "output_type": "stream",
     "name": "stdout",
     "text": "[1, 2, 3, 4]\n"
    }
   ],
   "source": [
    "#删除列表中重复元素\n",
    "lst=[1,2,3,4,2,1,2,4]\n",
    "print(list(set(lst)))"
   ]
  },
  {
   "cell_type": "code",
   "execution_count": 6,
   "metadata": {},
   "outputs": [
    {
     "output_type": "stream",
     "name": "stdout",
     "text": "2\n3\n4\n5\n6\n7\n8\n9\n"
    }
   ],
   "source": [
    "s=int(input(\"请输入一个正整数：\"))\n",
    "for i in range(2,s):\n",
    "    print(i)\n",
    ""
   ]
  },
  {
   "cell_type": "code",
   "execution_count": null,
   "metadata": {},
   "outputs": [],
   "source": []
  }
 ]
}