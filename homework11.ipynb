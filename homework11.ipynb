{
 "nbformat": 4,
 "nbformat_minor": 2,
 "metadata": {
  "language_info": {
   "name": "python",
   "codemirror_mode": {
    "name": "ipython",
    "version": 3
   },
   "version": "3.7.6-final"
  },
  "orig_nbformat": 2,
  "file_extension": ".py",
  "mimetype": "text/x-python",
  "name": "python",
  "npconvert_exporter": "python",
  "pygments_lexer": "ipython3",
  "version": 3,
  "kernelspec": {
   "name": "python3",
   "display_name": "Python 3"
  }
 },
 "cells": [
  {
   "cell_type": "code",
   "execution_count": null,
   "metadata": {},
   "outputs": [],
   "source": [
    "# 交换两个变量值\n",
    "def ex_num(x,y):\n",
    "    \n",
    "    return y,x\n",
    "\n",
    "x=3\n",
    "y=5\n",
    "x,y =ex_num(x,y)\n",
    "print(x,y)\n"
   ]
  },
  {
   "cell_type": "code",
   "execution_count": 34,
   "metadata": {},
   "outputs": [
    {
     "output_type": "stream",
     "name": "stdout",
     "text": "6\n"
    }
   ],
   "source": [
    "# 求数字中各位数之和(3位数)\n",
    "def sum_digit(num):\n",
    "    \n",
    "    num1 = int(num / 100)                 # 百位\n",
    "    num2 = int(num / 10 % 10)             # 十位\n",
    "    num3 = int(num % 10)                  # 个位\n",
    "    sum = num1 + num2+ num3               # 求和\n",
    "\n",
    "    return sum # 显示计算结果\n",
    "\n",
    "num = int(input('输入一个数字：'))   # 输入数字\n",
    "sum = sum_digit(num)\n",
    "print(sum)"
   ]
  },
  {
   "cell_type": "code",
   "execution_count": 2,
   "metadata": {},
   "outputs": [
    {
     "output_type": "stream",
     "name": "stdout",
     "text": "华氏温度为：77.0\n77.0\n"
    }
   ],
   "source": [
    "# 将摄氏度转换为华氏温度\n",
    "def c_to_f(cel):\n",
    "    \n",
    "    return cel * 1.8 + 32\n",
    "\n",
    "cel=int(input('celsius：'))                # 输入温度\n",
    "fah=c_to_f(cel)                            # 转换温度                        \n",
    "print(\"fahrenheit is：{}\".format(fah))     # 输出输出结果\n",
    "print(fah)                                 # 输出输出结果"
   ]
  },
  {
   "cell_type": "code",
   "execution_count": 30,
   "metadata": {},
   "outputs": [
    {
     "output_type": "stream",
     "name": "stdout",
     "text": "True\n"
    }
   ],
   "source": [
    "#判断是否为素数\n",
    "def is_prime(num):\n",
    "    \n",
    "    if num < 2:\n",
    "        return False\n",
    "    else:\n",
    "        for i in range(2,num):                  # 若能将s之前的数整除\n",
    "            if num%i==0:                        # 若能将s之前的数整除\n",
    "                return False       # s不是素数\n",
    "                break\n",
    "        \n",
    "        return True             # 否则就是素数\n",
    "    \n",
    "num=int(input(\"Please input a number:\"))                 # 任意输入   \n",
    "print(is_prime(num))    \n",
    "   "
   ]
  },
  {
   "cell_type": "code",
   "execution_count": 31,
   "metadata": {},
   "outputs": [
    {
     "output_type": "stream",
     "name": "stdout",
     "text": "[1, 2, 3, 4]\n"
    }
   ],
   "source": [
    "#删除列表中重复元素\n",
    "def rem_dup(ori_list):\n",
    "\n",
    "    temp_list=[]    \n",
    "    for ele in ori_list:        \n",
    "        if ele not in temp_list:            \n",
    "            temp_list.append(ele)    \n",
    "    \n",
    "    return temp_list\n",
    "\n",
    "ori_list=[1,2,3,4,2,1,2,4]\n",
    "print(rem_dup(ori_list))"
   ]
  },
  {
   "cell_type": "code",
   "execution_count": null,
   "metadata": {},
   "outputs": [],
   "source": [
    "#生成随机数\n",
    "import random\n",
    "random.randint(0,99)           #生成随机整数"
   ]
  }
 ]
}