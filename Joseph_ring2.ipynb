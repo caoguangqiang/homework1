{
 "nbformat": 4,
 "nbformat_minor": 2,
 "metadata": {
  "language_info": {
   "name": "python",
   "codemirror_mode": {
    "name": "ipython",
    "version": 3
   },
   "version": "3.7.6-final"
  },
  "orig_nbformat": 2,
  "file_extension": ".py",
  "mimetype": "text/x-python",
  "name": "python",
  "npconvert_exporter": "python",
  "pygments_lexer": "ipython3",
  "version": 3,
  "kernelspec": {
   "name": "python3",
   "display_name": "Python 3"
  }
 },
 "cells": [
  {
   "cell_type": "code",
   "execution_count": 43,
   "metadata": {},
   "outputs": [],
   "source": [
    "# 约瑟夫环\n",
    "def josephus_add(n,step): \n",
    "    result = []\n",
    "     \n",
    "    i = 0\n",
    "    ori = list(range(0,n))\n",
    "    while len(ori):\n",
    "        temp = ori.pop(0)\n",
    "        i += 1\n",
    "        if i == step:\n",
    "            i = 0\n",
    "            result.append(temp+1)\n",
    "            continue\n",
    "        ori.append(temp)\n",
    "    return result\n",
    "\n",
    "\n",
    "assert josephus_add(5,3) == [3, 1, 5, 2, 4]\n",
    "assert josephus_add(10,4) == [4,8,2,7,3,10,9,1,6,5]\n",
    "# result = josephus_add(5,3)\n",
    "# result = josephus_add(10,4)\n",
    "# print(result)"
   ]
  },
  {
   "cell_type": "code",
   "execution_count": 42,
   "metadata": {},
   "outputs": [
    {
     "output_type": "stream",
     "name": "stdout",
     "text": "[4, 7, 3, 1, 6, 2, 5]\n"
    }
   ],
   "source": [
    "\n",
    "def josephus_remd(n,step,start): # n总人数，step间隔，start起始位置\n",
    "    result = []\n",
    "    \n",
    "    ori=[]\n",
    "    for i in range(n):\n",
    "        ori.append(i + 1)\n",
    "    now = start - 1\n",
    "    while len(ori):\n",
    "        now = (now + step - 1) % len(ori) \n",
    "        result.append(ori[now])\n",
    "        ori.pop(now) \n",
    "    \n",
    "    return result\n",
    "           \n",
    "        \n",
    "result = josephus_remd(7,3,2)\n",
    "print(result)"
   ]
  },
  {
   "cell_type": "code",
   "execution_count": null,
   "metadata": {},
   "outputs": [],
   "source": []
  }
 ]
}