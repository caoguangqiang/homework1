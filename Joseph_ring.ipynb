{
 "nbformat": 4,
 "nbformat_minor": 2,
 "metadata": {
  "language_info": {
   "name": "python",
   "codemirror_mode": {
    "name": "ipython",
    "version": 3
   },
   "version": "3.7.6-final"
  },
  "orig_nbformat": 2,
  "file_extension": ".py",
  "mimetype": "text/x-python",
  "name": "python",
  "npconvert_exporter": "python",
  "pygments_lexer": "ipython3",
  "version": 3,
  "kernelspec": {
   "name": "python3",
   "display_name": "Python 3"
  }
 },
 "cells": [
  {
   "cell_type": "code",
   "execution_count": 15,
   "metadata": {},
   "outputs": [
    {
     "output_type": "stream",
     "name": "stdout",
     "text": "[4]\n"
    }
   ],
   "source": [
    "# 约瑟夫环\n",
    "def joseph_ring(ori_list): \n",
    "\n",
    "     i = 0\n",
    "     while ori_list:\n",
    "        temp = ori_list.pop(0)\n",
    "        i = i + 1\n",
    "        if i == 3:\n",
    "            i = 0\n",
    "            continue\n",
    "        ori_list.append(temp)\n",
    "        if len(ori_list)==1:\n",
    "             return ori_list\n",
    "\n",
    "ori_list = list(range(1,11))\n",
    "final_list=joseph_ring(ori_list)\n",
    "print(final_list)"
   ]
  },
  {
   "cell_type": "code",
   "execution_count": null,
   "metadata": {},
   "outputs": [],
   "source": []
  },
  {
   "cell_type": "code",
   "execution_count": null,
   "metadata": {},
   "outputs": [],
   "source": []
  }
 ]
}